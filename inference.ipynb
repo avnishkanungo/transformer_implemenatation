{
 "cells": [
  {
   "cell_type": "code",
   "execution_count": 2,
   "metadata": {},
   "outputs": [],
   "source": [
    "from pathlib import Path\n",
    "import torch\n",
    "import torch.nn as nn\n",
    "from config import get_config, latest_weights_file_path\n",
    "from train import get_model, get_dataset, run_validation"
   ]
  },
  {
   "cell_type": "code",
   "execution_count": 3,
   "metadata": {},
   "outputs": [
    {
     "name": "stdout",
     "output_type": "stream",
     "text": [
      "Using device: cuda\n",
      "max_len_src: 477\n",
      "max_len_tgt: 493\n",
      "Max length of source sentence: 477\n",
      "Max length of target sentence: 493\n"
     ]
    },
    {
     "data": {
      "text/plain": [
       "<All keys matched successfully>"
      ]
     },
     "execution_count": 3,
     "metadata": {},
     "output_type": "execute_result"
    }
   ],
   "source": [
    "device = torch.device(\"cuda\" if torch.cuda.is_available() else \"cpu\")\n",
    "print(\"Using device:\", device)\n",
    "config = get_config()\n",
    "train_dataloader, val_dataloader, tokenizer_src, tokenizer_tgt = get_dataset(config)\n",
    "model = get_model(config, tokenizer_src.get_vocab_size(), tokenizer_tgt.get_vocab_size()).to(device)\n",
    "\n",
    "# Load the pretrained weights\n",
    "model_filename = latest_weights_file_path(config)\n",
    "state = torch.load(model_filename)\n",
    "model.load_state_dict(state['model_state_dict'])"
   ]
  },
  {
   "cell_type": "code",
   "execution_count": 4,
   "metadata": {},
   "outputs": [
    {
     "name": "stdout",
     "output_type": "stream",
     "text": [
      "================================================================================\n",
      "Source: At this place the beach was covered with little mounds, concealing perfectly spherical turtles' eggs, with white hard shells, the albumen of which does not coagulate as that of birds' eggs.\n",
      "Target: En cet endroit, la grève était hérissée de petites boursouflures, renfermant des oeufs parfaitement sphériques, à coque blanche et dure, et dont l'albumine a la propriété de ne point se coaguler comme celle des oeufs d'oiseaux.\n",
      "Predicted: C C C C C C C C C C C C C C C C C C C C C C C C C C C C C C C C C C C C C C C C C C C C C C C C C C C C C C C C C C C C C C C C C C C C C C C C C C C C C C C C C C C C C C C C C C C C C C C C C C C C C C C C C C C C C C C C C C C C C C C C C C C C C C C C C C C C C C C C C C C C C C C C C C C C C C C C C C C C C C C C C C C C C C C C C C C C C C C C C C C C C C C C C C C C C C C C C C C C C C C C C C C C C C C C C C C C C C C C C C C C C C C C C C C C C C C C C C C C C C C C C C C C C C C C C C C C C C C C C C C C C C C C C C C C C C C C C C C C C C C C C C C C C C C C C C C C C C C C C C C C C C C C C C C C C C C C C C C C C C C C C C C C C C C C C C C C C C C C C C C C C C C C C C C C C C C C C C C C C C C C C C C C C C C C C C C C C C C C C C C C C C C C C C C C C C C C C C C C C C C C C C C C C C C C C C C C C C C C C C C C C C C C C C C C C C C C C C C C C C C C C C C C C C C C C C C C C C C C C C C C C C C C C C C C C C C C C C C C C C C C C C C C C C C C C C C C C C C C C C C C\n",
      "================================================================================\n",
      "================================================================================\n",
      "Source: \"But the wine,\" said d’Artagnan, \"who furnishes the wine? Your host?\"\n",
      "Target: -- Mais le vin, dit d'Artagnan, qui fournit le vin? c'est votre hôte?\n",
      "Predicted: C C C C C C C C C C C C C C C C C C C C C C C C C C C C C C C C C C C C C C C C C C C C C C C C C C C C C C C C C C C C C C C C C C C C C C C C C C C C C C C C C C C C C C C C C C C C C C C C C C C C C C C C C C C C C C C C C C C C C C C C C C C C C C C C C C C C C C C C C C C C C C C C C C C C C C C C C C C C C C C C C C C C C C C C C C C C C C C C C C C C C C C C C C C C C C C C C C C C C C C C C C C C C C C C C C C C C C C C C C C C C C C C C C C C C C C C C C C C C C C C C C C C C C C C C C C C C C C C C C C C C C C C C C C C C C C C C C C C C C C C C C C C C C C C C C C C C C C C C C C C C C C C C C C C C C C C C C C C C C C C C C C C C C C C C C C C C C C C C C C C C C C C C C C C C C C C C C C C C C C C C C C C C C C C C C C C C C C C C C C C C C C C C C C C C C C C C C C C C C C C C C C C C C C C C C C C C C C C C C C C C C C C C C C C C C C C C C C C C C C C C C C C C C C C C C C C C C C C C C C C C C C C C C C C C C C C C C C C C C C C C C C C C C C C C C C C C C C C C C C C\n",
      "================================================================================\n",
      "================================================================================\n",
      "Source: \"There _is_ something a little stately in him, to be sure,\" replied her aunt, \"but it is confined to his air, and is not unbecoming.\n",
      "Target: – Il y a bien un peu de hauteur dans sa physionomie, reprit sa femme, mais elle n’est que dans l’expression, et ne lui sied pas mal.\n",
      "Predicted: Or Or Or Or Or Or Or Or Or Or Or Or Or Or Or Or Or Or Or Or Or Or Or Or Or Or Or Or Or Or Or Or Or Or Or Or Or Or Or Or Or Or Or Or Or Or Or Or Or Or Or Or Or Or Or Or Or Or Or Or Or Or Or Or Or Or Or Or Or Or Or Or Or Or Or Or Or Or Or Or Or Or Or Or Or Or Or Or Or Or Or Or Or Or Or Or Or Or Or Or Or Or Or Or Or Or Or Or Or Or Or Or Or Or Or Or Or Or Or Or Or Or Or Or Or Or Or Or Or Or Or Or Or Or Or Or Or Or Or Or Or Or Or Or Or Or Or Or Or Or Or Or Or Or Or Or Or Or Or Or Or Or Or Or Or Or Or Or Or Or Or Or Or Or Or Or Or Or Or Or Or Or Or Or Or Or Or Or Or Or Or Or Or Or Or Or Or Or Or Or Or Or Or Or Or Or Or Or Or Or Or Or Or Or Or Or Or Or Or Or Or Or Or Or Or Or Or Or Or Or Or Or Or Or Or Or Or Or Or Or Or Or Or Or Or Or Or Or Or Or Or Or Or Or Or Or Or Or Or Or Or Or Or Or Or Or Or Or Or Or Or Or Or Or Or Or Or Or Or Or Or Or Or Or Or Or Or Or Or Or Or Or Or Or Or Or Or Or Or Or Or Or Or Or Or Or Or Or Or Or Or Or Or Or Or Or Or Or Or Or Or Or Or Or Or Or Or Or Or Or Or Or Or Or Or Or Or Or Or Or Or Or Or Or Or Or Or Or Or Or Or Or Or Or Or Or Or Or Or Or Or Or Or Or Or Or Or Or Or Or Or Or Or Or Or Or Or Or Or Or Or Or Or Or Or Or Or Or Or Or Or Or Or Or Or Or Or Or Or Or Or Or Or Or Or Or Or Or Or Or Or Or Or Or Or Or Or Or Or Or Or Or Or Or Or Or Or Or Or Or Or Or Or Or Or Or Or Or Or Or Or Or Or Or Or Or Or Or Or Or Or Or Or Or Or Or Or Or Or Or Or Or Or Or Or Or Or Or Or Or Or Or Or Or Or Or Or Or Or Or Or Or Or Or Or Or Or Or Or Or Or Or Or Or Or Or Or Or Or Or\n",
      "================================================================================\n",
      "================================================================================\n",
      "Source: The internal fires had not yet forced their way through.\n",
      "Target: Les feux intérieurs n'avaient pas encore fait irruption au dehors.\n",
      "Predicted: C C C C C C C C C C C C C C C C C C C C C C C C C C C C C C C C C C C C C C C C C C C C C C C C C C C C C C C C C C C C C C C C C C C C C C C C C C C C C C C C C C C C C C C C C C C C C C C C C C C C C C C C C C C C C C C C C C C C C C C C C C C C C C C C C C C C C C C C C C C C C C C C C C C C C C C C C C C C C C C C C C C C C C C C C C C C C C C C C C C C C C C C C C C C C C C C C C C C C C C C C C C C C C C C C C C C C C C C C C C C C C C C C C C C C C C C C C C C C C C C C C C C C C C C C C C C C C C C C C C C C C C C C C C C C C C C C C C C C C C C C C C C C C C C C C C C C C C C C C C C C C C C C C C C C C C C C C C C C C C C C C C C C C C C C C C C C C C C C C C C C C C C C C C C C C C C C C C C C C C C C C C C C C C C C C C C C C C C C C C C C C C C C C C C C C C C C C C C C C C C C C C C C C C C C C C C C C C C C C C C C C C C C C C C C C C C C C C C C C C C C C C C C C C C C C C C C C C C C C C C C C C C C C C C C C C C C C C C C C C C C C C C C C C C C C C C C C C C C C C C\n",
      "================================================================================\n",
      "================================================================================\n",
      "Source: THE COUNTRY OUTING(concluded)\n",
      "Target: LA PARTIE DE PLAISIR (fin)\n",
      "Predicted: Or Or Or Or Or Or Or Or Or Or Or Or Or Or Or Or Or Or Or Or Or Or Or Or Or Or Or Or Or Or Or Or Or Or Or Or Or Or Or Or Or Or Or Or Or Or Or Or Or Or Or Or Or Or Or Or Or Or Or Or Or Or Or Or Or Or Or Or Or Or Or Or Or Or Or Or Or Or Or Or Or Or Or Or Or Or Or Or Or Or Or Or Or Or Or Or Or Or Or Or Or Or Or Or Or Or Or Or Or Or Or Or Or Or Or Or Or Or Or Or Or Or Or Or Or Or Or Or Or Or Or Or Or Or Or Or Or Or Or Or Or Or Or Or Or Or Or Or Or Or Or Or Or Or Or Or Or Or Or Or Or Or Or Or Or Or Or Or Or Or Or Or Or Or Or Or Or Or Or Or Or Or Or Or Or Or Or Or Or Or Or Or Or Or Or Or Or Or Or Or Or Or Or Or Or Or Or Or Or Or Or Or Or Or Or Or Or Or Or Or Or Or Or Or Or Or Or Or Or Or Or Or Or Or Or Or Or Or Or Or Or Or Or Or Or Or Or Or Or Or Or Or Or Or Or Or Or Or Or Or Or Or Or Or Or Or Or Or Or Or Or Or Or Or Or Or Or Or Or Or Or Or Or Or Or Or Or Or Or Or Or Or Or Or Or Or Or Or Or Or Or Or Or Or Or Or Or Or Or Or Or Or Or Or Or Or Or Or Or Or Or Or Or Or Or Or Or Or Or Or Or Or Or Or Or Or Or Or Or Or Or Or Or Or Or Or Or Or Or Or Or Or Or Or Or Or Or Or Or Or Or Or Or Or Or Or Or Or Or Or Or Or Or Or Or Or Or Or Or Or Or Or Or Or Or Or Or Or Or Or Or Or Or Or Or Or Or Or Or Or Or Or Or Or Or Or Or Or Or Or Or Or Or Or Or Or Or Or Or Or Or Or Or Or Or Or Or Or Or Or Or Or Or Or Or Or Or Or Or Or Or Or Or Or Or Or Or Or Or Or Or Or Or Or Or Or Or Or Or Or Or Or Or Or Or Or Or Or Or Or Or Or Or Or Or Or Or Or Or Or Or Or Or Or Or Or Or Or Or Or Or Or Or Or Or Or Or Or Or Or\n",
      "================================================================================\n"
     ]
    }
   ],
   "source": [
    "run_validation(model, val_dataloader, tokenizer_src, tokenizer_tgt, config['seq_len'], device, lambda msg: print(msg), 0, None, num_examples=5)"
   ]
  },
  {
   "cell_type": "code",
   "execution_count": null,
   "metadata": {},
   "outputs": [],
   "source": []
  }
 ],
 "metadata": {
  "language_info": {
   "name": "python"
  }
 },
 "nbformat": 4,
 "nbformat_minor": 2
}
